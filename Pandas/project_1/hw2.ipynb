{
 "cells": [
  {
   "cell_type": "markdown",
   "metadata": {},
   "source": [
    "# Домашнее задание №2\n",
    "\n",
    "## Правила\n",
    "\n",
    " - Задание выдается и принимается через проект в LMS\n",
    " - Дедлайн сдачи - **12 октября, 23:59**. После этого времени работы не принимаются.\n",
    " - Задание выполняется индивидуально. Нельзя смотреть чужие решения или делиться своими. При обнаружении списывания результаты всех похожих работ обнуляются.\n",
    " - При возникновении вопросов по заданиям - пишите в канал \"Вопросы и консультации\" в Teams. Туда нельзя постить свое решение целиком. Если есть такая необходимость, то пользуйтесь личныим сообщениями в Teams.  Вам помогут **учебные ассистенты**: *Инюцина Виктория* (группы БЛГ191-192), *Кербер Екатерина* (группы БЛГ193-194), *Аветисян Наталья* (группы БЛГ195-196).\n",
    " - Аккуратно оформляйте и комментируйте свое решение. Ваша оценка зависит от того, что мы поймем из вашего блокнота.\n",
    " - С каждым заданием связано определенное количество баллов, которое отражает его сложность. Результаты суммируются. Максимально можно заработать 10 баллов.\n",
    " - На забудьте подписать работу - укажите в следующей ячейке свою фамилию, имя и группу.\n",
    " \n",
    " - На проверку надо загрузить в проект в  LMS HTML-файл с вашим решением. Чтобы получить такой файл из блокнота, сохраните блокнот, выполните команду: `Kernel/Restart & Run All`. Убедитесь, что блокнот досчитался до конца и нет ошибок. Затем выполните команду: `File/Download as.../HTML`. Полученный HTML-файл просмотрите внимательно и загрузите в задание в проект в LMS.\n",
    " \n",
    " \n",
    " \n",
    " \n",
    " \n",
    " \n",
    " "
   ]
  },
  {
   "cell_type": "markdown",
   "metadata": {},
   "source": [
    "## Работа выполнена:\n",
    "\n",
    "Фамилия, Имя: ___________\n",
    "\n",
    "\n",
    "Группа: ___________"
   ]
  },
  {
   "cell_type": "markdown",
   "metadata": {},
   "source": [
    "## Подготовка\n",
    "\n",
    "Запустите следующую ячейку, чтобы подключить необходимые пакеты"
   ]
  },
  {
   "cell_type": "code",
   "execution_count": 1,
   "metadata": {},
   "outputs": [],
   "source": [
    "import pandas as pd\n",
    "import numpy as np\n",
    "import matplotlib.pyplot as plt\n",
    "import seaborn as sns\n",
    "%matplotlib inline"
   ]
  },
  {
   "cell_type": "markdown",
   "metadata": {},
   "source": [
    "Запустите следующую ячейку, чтобы загрузить данные. Если у вас не загружаются данные, - убедитесь, что вы распаковали архив с домашним заданием. Необходимые файлы должны находиться в подпапке `data`."
   ]
  },
  {
   "cell_type": "code",
   "execution_count": 91,
   "metadata": {},
   "outputs": [
    {
     "data": {
      "text/html": [
       "<div>\n",
       "<style scoped>\n",
       "    .dataframe tbody tr th:only-of-type {\n",
       "        vertical-align: middle;\n",
       "    }\n",
       "\n",
       "    .dataframe tbody tr th {\n",
       "        vertical-align: top;\n",
       "    }\n",
       "\n",
       "    .dataframe thead th {\n",
       "        text-align: right;\n",
       "    }\n",
       "</style>\n",
       "<table border=\"1\" class=\"dataframe\">\n",
       "  <thead>\n",
       "    <tr style=\"text-align: right;\">\n",
       "      <th></th>\n",
       "      <th>year</th>\n",
       "      <th>month</th>\n",
       "      <th>day</th>\n",
       "      <th>dep_time</th>\n",
       "      <th>sched_dep_time</th>\n",
       "      <th>dep_delay</th>\n",
       "      <th>arr_time</th>\n",
       "      <th>sched_arr_time</th>\n",
       "      <th>arr_delay</th>\n",
       "      <th>carrier</th>\n",
       "      <th>flight</th>\n",
       "      <th>tailnum</th>\n",
       "      <th>origin</th>\n",
       "      <th>dest</th>\n",
       "      <th>air_time</th>\n",
       "      <th>distance</th>\n",
       "      <th>hour</th>\n",
       "      <th>minute</th>\n",
       "      <th>time_hour</th>\n",
       "      <th>airline</th>\n",
       "    </tr>\n",
       "  </thead>\n",
       "  <tbody>\n",
       "    <tr>\n",
       "      <th>0</th>\n",
       "      <td>2013</td>\n",
       "      <td>1</td>\n",
       "      <td>1</td>\n",
       "      <td>517.0</td>\n",
       "      <td>515</td>\n",
       "      <td>2.0</td>\n",
       "      <td>830.0</td>\n",
       "      <td>819</td>\n",
       "      <td>11.0</td>\n",
       "      <td>UA</td>\n",
       "      <td>1545</td>\n",
       "      <td>N14228</td>\n",
       "      <td>EWR</td>\n",
       "      <td>IAH</td>\n",
       "      <td>227.0</td>\n",
       "      <td>1400</td>\n",
       "      <td>5</td>\n",
       "      <td>15</td>\n",
       "      <td>2013-01-01 10:00:00+00:00</td>\n",
       "      <td>United Air Lines Inc.</td>\n",
       "    </tr>\n",
       "    <tr>\n",
       "      <th>1</th>\n",
       "      <td>2013</td>\n",
       "      <td>1</td>\n",
       "      <td>1</td>\n",
       "      <td>533.0</td>\n",
       "      <td>529</td>\n",
       "      <td>4.0</td>\n",
       "      <td>850.0</td>\n",
       "      <td>830</td>\n",
       "      <td>20.0</td>\n",
       "      <td>UA</td>\n",
       "      <td>1714</td>\n",
       "      <td>N24211</td>\n",
       "      <td>LGA</td>\n",
       "      <td>IAH</td>\n",
       "      <td>227.0</td>\n",
       "      <td>1416</td>\n",
       "      <td>5</td>\n",
       "      <td>29</td>\n",
       "      <td>2013-01-01 10:00:00+00:00</td>\n",
       "      <td>United Air Lines Inc.</td>\n",
       "    </tr>\n",
       "    <tr>\n",
       "      <th>2</th>\n",
       "      <td>2013</td>\n",
       "      <td>1</td>\n",
       "      <td>1</td>\n",
       "      <td>542.0</td>\n",
       "      <td>540</td>\n",
       "      <td>2.0</td>\n",
       "      <td>923.0</td>\n",
       "      <td>850</td>\n",
       "      <td>33.0</td>\n",
       "      <td>AA</td>\n",
       "      <td>1141</td>\n",
       "      <td>N619AA</td>\n",
       "      <td>JFK</td>\n",
       "      <td>MIA</td>\n",
       "      <td>160.0</td>\n",
       "      <td>1089</td>\n",
       "      <td>5</td>\n",
       "      <td>40</td>\n",
       "      <td>2013-01-01 10:00:00+00:00</td>\n",
       "      <td>American Airlines Inc.</td>\n",
       "    </tr>\n",
       "    <tr>\n",
       "      <th>3</th>\n",
       "      <td>2013</td>\n",
       "      <td>1</td>\n",
       "      <td>1</td>\n",
       "      <td>544.0</td>\n",
       "      <td>545</td>\n",
       "      <td>-1.0</td>\n",
       "      <td>1004.0</td>\n",
       "      <td>1022</td>\n",
       "      <td>-18.0</td>\n",
       "      <td>B6</td>\n",
       "      <td>725</td>\n",
       "      <td>N804JB</td>\n",
       "      <td>JFK</td>\n",
       "      <td>BQN</td>\n",
       "      <td>183.0</td>\n",
       "      <td>1576</td>\n",
       "      <td>5</td>\n",
       "      <td>45</td>\n",
       "      <td>2013-01-01 10:00:00+00:00</td>\n",
       "      <td>JetBlue Airways</td>\n",
       "    </tr>\n",
       "    <tr>\n",
       "      <th>4</th>\n",
       "      <td>2013</td>\n",
       "      <td>1</td>\n",
       "      <td>1</td>\n",
       "      <td>554.0</td>\n",
       "      <td>600</td>\n",
       "      <td>-6.0</td>\n",
       "      <td>812.0</td>\n",
       "      <td>837</td>\n",
       "      <td>-25.0</td>\n",
       "      <td>DL</td>\n",
       "      <td>461</td>\n",
       "      <td>N668DN</td>\n",
       "      <td>LGA</td>\n",
       "      <td>ATL</td>\n",
       "      <td>116.0</td>\n",
       "      <td>762</td>\n",
       "      <td>6</td>\n",
       "      <td>0</td>\n",
       "      <td>2013-01-01 11:00:00+00:00</td>\n",
       "      <td>Delta Air Lines Inc.</td>\n",
       "    </tr>\n",
       "  </tbody>\n",
       "</table>\n",
       "</div>"
      ],
      "text/plain": [
       "   year  month  day  dep_time  sched_dep_time  dep_delay  arr_time  \\\n",
       "0  2013      1    1     517.0             515        2.0     830.0   \n",
       "1  2013      1    1     533.0             529        4.0     850.0   \n",
       "2  2013      1    1     542.0             540        2.0     923.0   \n",
       "3  2013      1    1     544.0             545       -1.0    1004.0   \n",
       "4  2013      1    1     554.0             600       -6.0     812.0   \n",
       "\n",
       "   sched_arr_time  arr_delay carrier  flight tailnum origin dest  air_time  \\\n",
       "0             819       11.0      UA    1545  N14228    EWR  IAH     227.0   \n",
       "1             830       20.0      UA    1714  N24211    LGA  IAH     227.0   \n",
       "2             850       33.0      AA    1141  N619AA    JFK  MIA     160.0   \n",
       "3            1022      -18.0      B6     725  N804JB    JFK  BQN     183.0   \n",
       "4             837      -25.0      DL     461  N668DN    LGA  ATL     116.0   \n",
       "\n",
       "   distance  hour  minute                 time_hour                 airline  \n",
       "0      1400     5      15 2013-01-01 10:00:00+00:00   United Air Lines Inc.  \n",
       "1      1416     5      29 2013-01-01 10:00:00+00:00   United Air Lines Inc.  \n",
       "2      1089     5      40 2013-01-01 10:00:00+00:00  American Airlines Inc.  \n",
       "3      1576     5      45 2013-01-01 10:00:00+00:00         JetBlue Airways  \n",
       "4       762     6       0 2013-01-01 11:00:00+00:00    Delta Air Lines Inc.  "
      ]
     },
     "execution_count": 91,
     "metadata": {},
     "output_type": "execute_result"
    }
   ],
   "source": [
    "# Читаем данные по рейсам\n",
    "flights = pd.read_csv('data/flights.csv',\n",
    "                     parse_dates=['time_hour'], # разобрать дату\n",
    "                     dtype={'carrier' : 'str' # код перевозчика - текст\n",
    "                           })  \n",
    "\n",
    "# Читаем список авиакомпаний\n",
    "airlines = pd.read_csv('data/airlines.csv', \n",
    "                      dtype={'carrier':'str'}) # код перевозчика - текст\n",
    "airlines.rename({'name':'airline'}, axis='columns', inplace=True)\n",
    "\n",
    "# Присоединяем авиакомпании:\n",
    "flights = pd.merge(flights, airlines, on='carrier', how='left')\n",
    "\n",
    "flights.head()"
   ]
  },
  {
   "cell_type": "markdown",
   "metadata": {},
   "source": [
    "В таблице `flights` содержатся авиарейсы, вылетевшие из Нью-Йорка в 2013 году (336776 записей).\n",
    "\n",
    "Столбцы:\n",
    "\n",
    " - `year, month, day` - дата вылета  \n",
    " - `dep_time, arr_time` - фактическое время вылета и посадки, время указано местное\n",
    " - `sched_dep_time, sched_arr_time` - время вылета и посадки по расписанию рейсов, местное\n",
    " - `dep_delay ,arr_delay` - задержка вылета и посадки в минутах. Отрицательные значения означают, что рейс вылетел или сел раньше  \n",
    " - `hour, minute` - отдельно час и минута времени вылета по расписанию \n",
    " - `carrier` - краткое обозначение авиакомпании\n",
    " - `airline` - полное название авиакомпании (данные также можно посмотреть в таблице `airlines`\n",
    " - `tailnum` - бортовой номер самолета\n",
    " - `flight` - номер рейса\n",
    " - `origin, dest` - аэропорт отправления и назначения. Расшифровки есть в файле `data/airports.csv`.\n",
    " - `air_time` - время полета, в минутах\n",
    " - `distance` - расстояние перелета, в милях\n",
    " - `time_hour` - дата и время вылета в виде отметки времени, можно использовать вместе с полем `origin` для соединения с данными о погоде"
   ]
  },
  {
   "cell_type": "code",
   "execution_count": 92,
   "metadata": {},
   "outputs": [
    {
     "name": "stdout",
     "output_type": "stream",
     "text": [
      "<class 'pandas.core.frame.DataFrame'>\n",
      "Int64Index: 336776 entries, 0 to 336775\n",
      "Data columns (total 20 columns):\n",
      " #   Column          Non-Null Count   Dtype              \n",
      "---  ------          --------------   -----              \n",
      " 0   year            336776 non-null  int64              \n",
      " 1   month           336776 non-null  int64              \n",
      " 2   day             336776 non-null  int64              \n",
      " 3   dep_time        328521 non-null  float64            \n",
      " 4   sched_dep_time  336776 non-null  int64              \n",
      " 5   dep_delay       328521 non-null  float64            \n",
      " 6   arr_time        328063 non-null  float64            \n",
      " 7   sched_arr_time  336776 non-null  int64              \n",
      " 8   arr_delay       327346 non-null  float64            \n",
      " 9   carrier         336776 non-null  object             \n",
      " 10  flight          336776 non-null  int64              \n",
      " 11  tailnum         334264 non-null  object             \n",
      " 12  origin          336776 non-null  object             \n",
      " 13  dest            336776 non-null  object             \n",
      " 14  air_time        327346 non-null  float64            \n",
      " 15  distance        336776 non-null  int64              \n",
      " 16  hour            336776 non-null  int64              \n",
      " 17  minute          336776 non-null  int64              \n",
      " 18  time_hour       336776 non-null  datetime64[ns, UTC]\n",
      " 19  airline         336776 non-null  object             \n",
      "dtypes: datetime64[ns, UTC](1), float64(5), int64(9), object(5)\n",
      "memory usage: 54.0+ MB\n"
     ]
    }
   ],
   "source": [
    "flights.info()"
   ]
  },
  {
   "cell_type": "markdown",
   "metadata": {},
   "source": [
    "В таблице `airlines` содержится список авиакомпаний"
   ]
  },
  {
   "cell_type": "code",
   "execution_count": 51,
   "metadata": {},
   "outputs": [
    {
     "data": {
      "text/html": [
       "<div>\n",
       "<style scoped>\n",
       "    .dataframe tbody tr th:only-of-type {\n",
       "        vertical-align: middle;\n",
       "    }\n",
       "\n",
       "    .dataframe tbody tr th {\n",
       "        vertical-align: top;\n",
       "    }\n",
       "\n",
       "    .dataframe thead th {\n",
       "        text-align: right;\n",
       "    }\n",
       "</style>\n",
       "<table border=\"1\" class=\"dataframe\">\n",
       "  <thead>\n",
       "    <tr style=\"text-align: right;\">\n",
       "      <th></th>\n",
       "      <th>carrier</th>\n",
       "      <th>airline</th>\n",
       "    </tr>\n",
       "  </thead>\n",
       "  <tbody>\n",
       "    <tr>\n",
       "      <th>0</th>\n",
       "      <td>9E</td>\n",
       "      <td>Endeavor Air Inc.</td>\n",
       "    </tr>\n",
       "    <tr>\n",
       "      <th>1</th>\n",
       "      <td>AA</td>\n",
       "      <td>American Airlines Inc.</td>\n",
       "    </tr>\n",
       "    <tr>\n",
       "      <th>2</th>\n",
       "      <td>AS</td>\n",
       "      <td>Alaska Airlines Inc.</td>\n",
       "    </tr>\n",
       "    <tr>\n",
       "      <th>3</th>\n",
       "      <td>B6</td>\n",
       "      <td>JetBlue Airways</td>\n",
       "    </tr>\n",
       "    <tr>\n",
       "      <th>4</th>\n",
       "      <td>DL</td>\n",
       "      <td>Delta Air Lines Inc.</td>\n",
       "    </tr>\n",
       "    <tr>\n",
       "      <th>5</th>\n",
       "      <td>EV</td>\n",
       "      <td>ExpressJet Airlines Inc.</td>\n",
       "    </tr>\n",
       "    <tr>\n",
       "      <th>6</th>\n",
       "      <td>F9</td>\n",
       "      <td>Frontier Airlines Inc.</td>\n",
       "    </tr>\n",
       "    <tr>\n",
       "      <th>7</th>\n",
       "      <td>FL</td>\n",
       "      <td>AirTran Airways Corporation</td>\n",
       "    </tr>\n",
       "    <tr>\n",
       "      <th>8</th>\n",
       "      <td>HA</td>\n",
       "      <td>Hawaiian Airlines Inc.</td>\n",
       "    </tr>\n",
       "    <tr>\n",
       "      <th>9</th>\n",
       "      <td>MQ</td>\n",
       "      <td>Envoy Air</td>\n",
       "    </tr>\n",
       "    <tr>\n",
       "      <th>10</th>\n",
       "      <td>OO</td>\n",
       "      <td>SkyWest Airlines Inc.</td>\n",
       "    </tr>\n",
       "    <tr>\n",
       "      <th>11</th>\n",
       "      <td>UA</td>\n",
       "      <td>United Air Lines Inc.</td>\n",
       "    </tr>\n",
       "    <tr>\n",
       "      <th>12</th>\n",
       "      <td>US</td>\n",
       "      <td>US Airways Inc.</td>\n",
       "    </tr>\n",
       "    <tr>\n",
       "      <th>13</th>\n",
       "      <td>VX</td>\n",
       "      <td>Virgin America</td>\n",
       "    </tr>\n",
       "    <tr>\n",
       "      <th>14</th>\n",
       "      <td>WN</td>\n",
       "      <td>Southwest Airlines Co.</td>\n",
       "    </tr>\n",
       "    <tr>\n",
       "      <th>15</th>\n",
       "      <td>YV</td>\n",
       "      <td>Mesa Airlines Inc.</td>\n",
       "    </tr>\n",
       "  </tbody>\n",
       "</table>\n",
       "</div>"
      ],
      "text/plain": [
       "   carrier                      airline\n",
       "0       9E            Endeavor Air Inc.\n",
       "1       AA       American Airlines Inc.\n",
       "2       AS         Alaska Airlines Inc.\n",
       "3       B6              JetBlue Airways\n",
       "4       DL         Delta Air Lines Inc.\n",
       "5       EV     ExpressJet Airlines Inc.\n",
       "6       F9       Frontier Airlines Inc.\n",
       "7       FL  AirTran Airways Corporation\n",
       "8       HA       Hawaiian Airlines Inc.\n",
       "9       MQ                    Envoy Air\n",
       "10      OO        SkyWest Airlines Inc.\n",
       "11      UA        United Air Lines Inc.\n",
       "12      US              US Airways Inc.\n",
       "13      VX               Virgin America\n",
       "14      WN       Southwest Airlines Co.\n",
       "15      YV           Mesa Airlines Inc."
      ]
     },
     "execution_count": 51,
     "metadata": {},
     "output_type": "execute_result"
    }
   ],
   "source": [
    "airlines"
   ]
  },
  {
   "cell_type": "markdown",
   "metadata": {},
   "source": [
    "## Задача 1 (0.5 балла)\n",
    "\n",
    "Найдите рейсы, вылетевшие в ночное время (с 00:00 до 5:59) с задержкой не менее 1 часа и наверставшие в пути более 50 минут.\n",
    "\n",
    "Должно получиться 7 строк.\n",
    "\n",
    "**Подсказка**:  \n",
    " - Отбор по вхождению в диапазон можно реализовать с помощью метода `between()`"
   ]
  },
  {
   "cell_type": "code",
   "execution_count": 73,
   "metadata": {},
   "outputs": [],
   "source": [
    "# Ваш код здесь"
   ]
  },
  {
   "cell_type": "markdown",
   "metadata": {},
   "source": [
    "## Задача 2 (0.5 балла)\n",
    "\n",
    "Найдите все рейсы компаний 'Delta Air Lines Inc.', 'American Airlines Inc.' и 'United Air Lines Inc.', которые вылетели в Хьюстон ('IAH' или 'HOU') летом 2013 года. При этом рейс должен был вылететь без опоздания, но совершить посадку с задержкой более 1 часа.\n",
    "\n",
    "Должно получиться 7 строк.\n",
    "\n",
    "**Подсказки**:  \n",
    " - Отбор по вхождению в список можно реализовать с помощью метода `isin()`  \n",
    " - Отбор по вхождению в диапазон можно реализовать с помощью метода `between()`"
   ]
  },
  {
   "cell_type": "code",
   "execution_count": 67,
   "metadata": {},
   "outputs": [],
   "source": [
    "# Ваш код здесь"
   ]
  },
  {
   "cell_type": "markdown",
   "metadata": {},
   "source": [
    "## Задача 3 (0.5 балла)\n",
    "\n",
    "Сколько рейсов в Питтсбург ('PIT') отменили в сентябре 2013 года? \n",
    "\n",
    "Должно получиться 5 строк.\n",
    "\n",
    "**Подсказка:**  \n",
    " - Для отмененных рейсов время вылета не указано."
   ]
  },
  {
   "cell_type": "code",
   "execution_count": null,
   "metadata": {},
   "outputs": [],
   "source": [
    "# Ваш код здесь"
   ]
  },
  {
   "cell_type": "markdown",
   "metadata": {},
   "source": [
    "## Задача 4 (0.5 балла)\n",
    "\n",
    "В наборе данных время вылета находится в неудобном формате: часы и минуты собраны в одно целое число. Поэтому, например, после значения 1359 будет идти значение 1400. Ваша задача - вычислить три новых поля: `dep_hour`, `dep_minute` и `dep_minutes_since_midnight`.  Поля должны содержать, соответственно, час вылета, минуту вылета и количество минут с полуночи до вылета.\n",
    "\n",
    "Выведите таблицу с рассчитанными столбцами (первые 10 строк). Убедитесь, что их видно в выводе.\n",
    "\n",
    "В отдельной ячейке посчитайте и выведите суммы по трем рассчитанным полям.\n",
    "\n",
    "**Подсказка:**  \n",
    " \n",
    " - Воспользуйтесь операцией целочисленного деления `//` и взятия остатка от деления `%`. Например, `1359 // 100 = 13`, а `1359 % 100 = 59`.  "
   ]
  },
  {
   "cell_type": "code",
   "execution_count": 100,
   "metadata": {},
   "outputs": [],
   "source": [
    "# Ваш код здесь"
   ]
  },
  {
   "cell_type": "markdown",
   "metadata": {},
   "source": [
    "## Задача 5 (0.5 балла)\n",
    "\n",
    "Некоторые рейсы были отменены. Для таких рейсов в столбце `dep_time` содержится пропущенное значение. Вычислите новый столбец: `status`, который, в зависимости от времени задержки вылета, должен содержать одно из следующих значений: `вылетел вовремя`, `задержан`, `отменен`. Для упрощения расчета, примите, что те рейсы, которые вылетели раньше назначенного времени, также относятся к категории: `вылетел вовремя`.\n",
    "\n",
    "Выведите таблицу с рейсами (первые 10 строк). Убедитесь что поле со статусом видно в выводе.\n",
    "\n",
    "В отдельной ячейке посчитайте и выведите количество рейсов для каждого статуса."
   ]
  },
  {
   "cell_type": "code",
   "execution_count": 104,
   "metadata": {},
   "outputs": [],
   "source": [
    "# Ваш код здесь"
   ]
  },
  {
   "cell_type": "markdown",
   "metadata": {},
   "source": [
    "## Задача 6 (0.5 балла)\n",
    "\n",
    "Рассчитайте и выведите долю задержанных рейсов по всей таблице `flights`."
   ]
  },
  {
   "cell_type": "code",
   "execution_count": 112,
   "metadata": {},
   "outputs": [],
   "source": [
    "# Ваш код здесь"
   ]
  },
  {
   "cell_type": "markdown",
   "metadata": {},
   "source": [
    "## Задача 7 (1 балл)\n",
    "\n",
    "Составьте рейтинг авиакомпаний по вероятности отмены рейса. Самые надежные авиакомпании должны быть первыми в списке."
   ]
  },
  {
   "cell_type": "code",
   "execution_count": 118,
   "metadata": {},
   "outputs": [],
   "source": [
    "# Ваш код здесь"
   ]
  },
  {
   "cell_type": "markdown",
   "metadata": {},
   "source": [
    "## Задача 8 (1 балл)\n",
    "\n",
    "Определите, какой месяц оказался самым тяжелым для каждой авиакомпании (по доле рейсов, задержанных более чем на 15 минут).\n",
    "\n",
    "Выведите таблицу со столбцами: `airline`, `month`.\n"
   ]
  },
  {
   "cell_type": "code",
   "execution_count": 124,
   "metadata": {},
   "outputs": [],
   "source": [
    "# Ваш код здесь"
   ]
  },
  {
   "cell_type": "markdown",
   "metadata": {},
   "source": [
    "## Задача 9 (1 балл)\n",
    "\n",
    "Постройте рейтинг авиакомпаний по числу выполненных рейсов в виде столбиковой диаграммы с горизонтальными столбиками. Столбики на диаграмме должны располагаться по убыванию. Добавьте понятное название графика и подпишите оси на русском языке."
   ]
  },
  {
   "cell_type": "code",
   "execution_count": 251,
   "metadata": {},
   "outputs": [],
   "source": [
    "# Ваш код здесь"
   ]
  },
  {
   "cell_type": "markdown",
   "metadata": {},
   "source": [
    "## Задача 10 (1.5 балла)\n",
    "\n",
    "Постройте тепловую карту задержки вылета (строки - дни недели, столбцы - час вылета по расписанию, в ячейках - средняя задержка вылета в минутах). Добавьте понятное название графика и подпишите оси на русском языке.\n",
    "\n",
    "Сравните этот результат с загруженностью аэропортов, построив аналогичную тепловую карту с количеством рейсов.\n",
    "\n",
    "\n",
    "Напишите выводы:\n",
    "\n",
    " - В какие дни и часы загруженность аэропорта наибольшая?\n",
    " - В какие дни и часы задержка вылетов наибольшая?\n",
    " - Соотносится ли задержка вылета с загруженностью аэропорта?\n",
    "\n",
    "**Подсказки**:\n",
    "\n",
    "- Номер дня недели для столбца с датами доступен через свойство `dt.dayofweek`. `0` - понедельник, `6` - воскресенье."
   ]
  },
  {
   "cell_type": "code",
   "execution_count": 253,
   "metadata": {},
   "outputs": [
    {
     "data": {
      "text/plain": [
       "2020-10-05    0\n",
       "2020-10-06    1\n",
       "2020-10-07    2\n",
       "2020-10-08    3\n",
       "2020-10-09    4\n",
       "2020-10-10    5\n",
       "2020-10-11    6\n",
       "Freq: D, dtype: int64"
      ]
     },
     "execution_count": 253,
     "metadata": {},
     "output_type": "execute_result"
    }
   ],
   "source": [
    "# Пример:\n",
    "s = pd.date_range('2020-10-05', '2020-10-11', freq='D').to_series()\n",
    "s.dt.dayofweek"
   ]
  },
  {
   "cell_type": "markdown",
   "metadata": {},
   "source": [
    " - Чтобы обеспечить правильный порядок дней недели, при группировке необходимо воспользоваться номером дня недели. Но в результате получится, что заголовки строк таблицы будут числами. Их можно заменить на названия дней, применив к индексу словарь замен с помощью метода `map()`:"
   ]
  },
  {
   "cell_type": "code",
   "execution_count": 254,
   "metadata": {},
   "outputs": [
    {
     "data": {
      "text/plain": [
       "0    1\n",
       "1    2\n",
       "2    3\n",
       "dtype: int64"
      ]
     },
     "execution_count": 254,
     "metadata": {},
     "output_type": "execute_result"
    }
   ],
   "source": [
    "# Пример\n",
    "s = pd.Series(range(1, 4))\n",
    "s # Сейчас индекс - целые числа"
   ]
  },
  {
   "cell_type": "code",
   "execution_count": 255,
   "metadata": {},
   "outputs": [
    {
     "data": {
      "text/plain": [
       "первый    1\n",
       "второй    2\n",
       "третий    3\n",
       "dtype: int64"
      ]
     },
     "execution_count": 255,
     "metadata": {},
     "output_type": "execute_result"
    }
   ],
   "source": [
    "# Пример\n",
    "replacements = { 0 : 'первый', 1 : 'второй', 2 : 'третий'} # словарь замен для примера\n",
    "\n",
    "s.index = s.index.map(replacements)\n",
    "s # Сейчас числа в индексе заменены на слова по словарю замен"
   ]
  },
  {
   "cell_type": "markdown",
   "metadata": {},
   "source": [
    "## Задача 11 (1 балл)\n",
    "\n",
    "Постройте графики изменения вероятности задержки рейса более чем на полчаса для 5 крупнейших по количеству рейсов авиакомпаний.\n",
    "Вероятность задержки рейса можно оценить как долю задержанных рейсов данной авиакомпании в данном месяце.\n",
    "\n",
    "Примерный вид графика показан на рисунке:\n",
    "![](pics/prop_delayed.png)\n",
    "\n",
    "Напишите вывод:\n",
    "\n",
    " - Одинаковы ли тренды в задержке рейсов для разных авиакомпаний?\n",
    " - Какие авиакомпании наиболее и наименее надежные с точки зрения вероятности задержки рейса?\n"
   ]
  },
  {
   "cell_type": "code",
   "execution_count": 1,
   "metadata": {},
   "outputs": [],
   "source": [
    "# Ваш код здесь"
   ]
  },
  {
   "cell_type": "markdown",
   "metadata": {},
   "source": [
    "## Задача 12 (1.5 балла)\n",
    "\n",
    "Загрузим данные о самолетах:"
   ]
  },
  {
   "cell_type": "code",
   "execution_count": 286,
   "metadata": {},
   "outputs": [],
   "source": [
    "planes = pd.read_csv('data/planes.csv')"
   ]
  },
  {
   "cell_type": "code",
   "execution_count": 287,
   "metadata": {},
   "outputs": [
    {
     "data": {
      "text/html": [
       "<div>\n",
       "<style scoped>\n",
       "    .dataframe tbody tr th:only-of-type {\n",
       "        vertical-align: middle;\n",
       "    }\n",
       "\n",
       "    .dataframe tbody tr th {\n",
       "        vertical-align: top;\n",
       "    }\n",
       "\n",
       "    .dataframe thead th {\n",
       "        text-align: right;\n",
       "    }\n",
       "</style>\n",
       "<table border=\"1\" class=\"dataframe\">\n",
       "  <thead>\n",
       "    <tr style=\"text-align: right;\">\n",
       "      <th></th>\n",
       "      <th>tailnum</th>\n",
       "      <th>year</th>\n",
       "      <th>type</th>\n",
       "      <th>manufacturer</th>\n",
       "      <th>model</th>\n",
       "      <th>engines</th>\n",
       "      <th>seats</th>\n",
       "      <th>speed</th>\n",
       "      <th>engine</th>\n",
       "    </tr>\n",
       "  </thead>\n",
       "  <tbody>\n",
       "    <tr>\n",
       "      <th>0</th>\n",
       "      <td>N10156</td>\n",
       "      <td>2004.0</td>\n",
       "      <td>Fixed wing multi engine</td>\n",
       "      <td>EMBRAER</td>\n",
       "      <td>EMB-145XR</td>\n",
       "      <td>2</td>\n",
       "      <td>55</td>\n",
       "      <td>NaN</td>\n",
       "      <td>Turbo-fan</td>\n",
       "    </tr>\n",
       "    <tr>\n",
       "      <th>1</th>\n",
       "      <td>N102UW</td>\n",
       "      <td>1998.0</td>\n",
       "      <td>Fixed wing multi engine</td>\n",
       "      <td>AIRBUS INDUSTRIE</td>\n",
       "      <td>A320-214</td>\n",
       "      <td>2</td>\n",
       "      <td>182</td>\n",
       "      <td>NaN</td>\n",
       "      <td>Turbo-fan</td>\n",
       "    </tr>\n",
       "    <tr>\n",
       "      <th>2</th>\n",
       "      <td>N103US</td>\n",
       "      <td>1999.0</td>\n",
       "      <td>Fixed wing multi engine</td>\n",
       "      <td>AIRBUS INDUSTRIE</td>\n",
       "      <td>A320-214</td>\n",
       "      <td>2</td>\n",
       "      <td>182</td>\n",
       "      <td>NaN</td>\n",
       "      <td>Turbo-fan</td>\n",
       "    </tr>\n",
       "    <tr>\n",
       "      <th>3</th>\n",
       "      <td>N104UW</td>\n",
       "      <td>1999.0</td>\n",
       "      <td>Fixed wing multi engine</td>\n",
       "      <td>AIRBUS INDUSTRIE</td>\n",
       "      <td>A320-214</td>\n",
       "      <td>2</td>\n",
       "      <td>182</td>\n",
       "      <td>NaN</td>\n",
       "      <td>Turbo-fan</td>\n",
       "    </tr>\n",
       "    <tr>\n",
       "      <th>4</th>\n",
       "      <td>N10575</td>\n",
       "      <td>2002.0</td>\n",
       "      <td>Fixed wing multi engine</td>\n",
       "      <td>EMBRAER</td>\n",
       "      <td>EMB-145LR</td>\n",
       "      <td>2</td>\n",
       "      <td>55</td>\n",
       "      <td>NaN</td>\n",
       "      <td>Turbo-fan</td>\n",
       "    </tr>\n",
       "  </tbody>\n",
       "</table>\n",
       "</div>"
      ],
      "text/plain": [
       "  tailnum    year                     type      manufacturer      model  \\\n",
       "0  N10156  2004.0  Fixed wing multi engine           EMBRAER  EMB-145XR   \n",
       "1  N102UW  1998.0  Fixed wing multi engine  AIRBUS INDUSTRIE   A320-214   \n",
       "2  N103US  1999.0  Fixed wing multi engine  AIRBUS INDUSTRIE   A320-214   \n",
       "3  N104UW  1999.0  Fixed wing multi engine  AIRBUS INDUSTRIE   A320-214   \n",
       "4  N10575  2002.0  Fixed wing multi engine           EMBRAER  EMB-145LR   \n",
       "\n",
       "   engines  seats  speed     engine  \n",
       "0        2     55    NaN  Turbo-fan  \n",
       "1        2    182    NaN  Turbo-fan  \n",
       "2        2    182    NaN  Turbo-fan  \n",
       "3        2    182    NaN  Turbo-fan  \n",
       "4        2     55    NaN  Turbo-fan  "
      ]
     },
     "execution_count": 287,
     "metadata": {},
     "output_type": "execute_result"
    }
   ],
   "source": [
    "planes.head()"
   ]
  },
  {
   "cell_type": "code",
   "execution_count": 289,
   "metadata": {},
   "outputs": [
    {
     "name": "stdout",
     "output_type": "stream",
     "text": [
      "<class 'pandas.core.frame.DataFrame'>\n",
      "RangeIndex: 3322 entries, 0 to 3321\n",
      "Data columns (total 9 columns):\n",
      " #   Column        Non-Null Count  Dtype  \n",
      "---  ------        --------------  -----  \n",
      " 0   tailnum       3322 non-null   object \n",
      " 1   year          3252 non-null   float64\n",
      " 2   type          3322 non-null   object \n",
      " 3   manufacturer  3322 non-null   object \n",
      " 4   model         3322 non-null   object \n",
      " 5   engines       3322 non-null   int64  \n",
      " 6   seats         3322 non-null   int64  \n",
      " 7   speed         23 non-null     float64\n",
      " 8   engine        3322 non-null   object \n",
      "dtypes: float64(2), int64(2), object(5)\n",
      "memory usage: 233.7+ KB\n"
     ]
    }
   ],
   "source": [
    "planes.info()"
   ]
  },
  {
   "cell_type": "markdown",
   "metadata": {},
   "source": [
    "\n",
    "**Словарь данных**  \n",
    "\n",
    " - `tailnum` - бортовой номер\n",
    " - `year` - год выпуска\n",
    " - `type` - тип самолета\n",
    " - `manufacturer, model` - производитель и модель самолета\n",
    " - `engines, seats` - количество двигателей и пассажирских мест\n",
    " - `speed` - средняя крейсерская скорость, миль в час\n",
    " - `engine` - тип двигателя"
   ]
  },
  {
   "cell_type": "markdown",
   "metadata": {},
   "source": [
    "**Задание**:\n",
    "\n",
    " - Соедините данные о самолетах `planes` с данными о рейсах `flights`. Выведите первые 10 строк этой таблицы и сводку по таблице (`info()`). Напишите вывод, отличается ли количество строк в полученной таблице и в таблице `flights`. С чем это связано?\n",
    " - На основе столбцов `distance` (расстояние в милях) и `air_time` (время полета в минутах) рассчитайте среднюю скорость самолета,  выполнявшего рейс (в милях/час)\n",
    " - Рассчитайте среднюю скорость в воздухе для каждого производителя и модели самолета. \n",
    " - Получите таблицу с тремя самыми быстрыми самолетами (или вертолетами) каждого производителя. Выведите эти данные как таблицу (целиком). В таблице не должно быть производителей, у которых представлено в данных менее трех моделей.\n",
    " - Визуализируйте данные полученной таблицы с помощью подходящего графика. Добавьте понятное название графика и подпишите оси."
   ]
  },
  {
   "cell_type": "code",
   "execution_count": 293,
   "metadata": {},
   "outputs": [],
   "source": [
    "# Ваш код здесь"
   ]
  }
 ],
 "metadata": {
  "kernelspec": {
   "display_name": "Python 3",
   "language": "python",
   "name": "python3"
  },
  "language_info": {
   "codemirror_mode": {
    "name": "ipython",
    "version": 3
   },
   "file_extension": ".py",
   "mimetype": "text/x-python",
   "name": "python",
   "nbconvert_exporter": "python",
   "pygments_lexer": "ipython3",
   "version": "3.8.5"
  }
 },
 "nbformat": 4,
 "nbformat_minor": 4
}
